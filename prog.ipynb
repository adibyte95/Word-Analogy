{
 "cells": [
  {
   "cell_type": "code",
   "execution_count": 1,
   "metadata": {},
   "outputs": [],
   "source": [
    "# importing dependencies\n",
    "import numpy as np\n"
   ]
  },
  {
   "cell_type": "code",
   "execution_count": 2,
   "metadata": {},
   "outputs": [],
   "source": [
    "# for loading the glove word embedding matrix values\n",
    "def load_glove_vectors(glove_file):\n",
    "    with open(glove_file, 'r', encoding=\"utf-8\") as file:\n",
    "        # unique words\n",
    "        words = set()\n",
    "        word_to_vec = {}\n",
    "        # each line starts with a word then the values for the different features\n",
    "        for line in file:\n",
    "            line = line.strip().split()\n",
    "            # take the word \n",
    "            curr_word = line[0]\n",
    "            words.add(curr_word)\n",
    "            # rest of the features for the word\n",
    "            word_to_vec[curr_word] = np.array(line[1:], dtype=np.float64)\n",
    "            \n",
    "    return words, word_to_vec"
   ]
  },
  {
   "cell_type": "code",
   "execution_count": 4,
   "metadata": {},
   "outputs": [],
   "source": [
    "words, word_to_vec = load_glove_vectors('data/glove.6B.300d.txt')"
   ]
  },
  {
   "cell_type": "code",
   "execution_count": 5,
   "metadata": {},
   "outputs": [],
   "source": [
    "def find_cosine_similarity(u, v):\n",
    "    distance = 0.0\n",
    "    \n",
    "    # find the dot product between u and v \n",
    "    dot = np.dot(u,v)\n",
    "    # find the L2 norm of u \n",
    "    norm_u = np.sqrt(np.sum(u**2))\n",
    "    # Compute the L2 norm of v\n",
    "    norm_v = np.sqrt(np.sum(v**2))\n",
    "    # Compute the cosine similarity\n",
    "    distance = dot/(norm_u)/norm_v\n",
    "    \n",
    "    return distance"
   ]
  },
  {
   "cell_type": "code",
   "execution_count": 6,
   "metadata": {},
   "outputs": [
    {
     "name": "stdout",
     "output_type": "stream",
     "text": [
      "cosine_similarity(king, queen) =  0.633646870148\n",
      "cosine_similarity(father, mother) =  0.756821737365\n",
      "cosine_similarity(king - queen, father - mother) =  0.471706450424\n",
      "cosine_similarity(bat, crow) =  0.151650597086\n",
      "cosine_similarity(india - delhi, rome - italy) =  -0.519746805621\n"
     ]
    }
   ],
   "source": [
    "father = word_to_vec[\"father\"]\n",
    "mother = word_to_vec[\"mother\"]\n",
    "king = word_to_vec[\"king\"]\n",
    "queen = word_to_vec[\"queen\"]\n",
    "bat = word_to_vec[\"bat\"]\n",
    "crow = word_to_vec[\"crow\"]\n",
    "india = word_to_vec[\"india\"]\n",
    "italy = word_to_vec[\"italy\"]\n",
    "delhi = word_to_vec[\"delhi\"]\n",
    "rome = word_to_vec[\"rome\"]\n",
    "\n",
    "print(\"cosine_similarity(king, queen) = \", find_cosine_similarity(king, queen))\n",
    "print(\"cosine_similarity(father, mother) = \", find_cosine_similarity(father, mother))\n",
    "print(\"cosine_similarity(king - queen, father - mother) = \",find_cosine_similarity(king - queen, father - mother))\n",
    "print(\"cosine_similarity(bat, crow) = \",find_cosine_similarity(bat, crow))\n",
    "print(\"cosine_similarity(india - delhi, rome - italy) = \",find_cosine_similarity(india - delhi, rome - italy))"
   ]
  },
  {
   "cell_type": "code",
   "execution_count": 9,
   "metadata": {},
   "outputs": [
    {
     "name": "stdout",
     "output_type": "stream",
     "text": [
      "[ -1.96120000e-01   8.96550000e-02  -2.45030000e-01   1.09190000e-01\n",
      "  -3.44290000e-01   4.12290000e-01  -1.05900000e-01  -4.55270000e-01\n",
      "   4.16800000e-01  -1.49590000e+00   1.73130000e-01  -2.60010000e-02\n",
      "  -3.35560000e-01   2.19070000e-01   2.82250000e-01  -7.09060000e-01\n",
      "  -3.87100000e-02  -1.78590000e-01  -1.27960000e-01  -1.77640000e-01\n",
      "  -5.96070000e-01   8.03380000e-01  -7.87810000e-02   3.40040000e-01\n",
      "  -6.36520000e-01   1.48170000e-01   2.31730000e-02  -8.32600000e-01\n",
      "   3.63180000e-01  -2.68650000e-01  -5.30430000e-01   2.27170000e-01\n",
      "  -4.21860000e-01  -6.85690000e-01  -6.27680000e-01   4.20060000e-01\n",
      "  -2.78880000e-01  -3.94230000e-01   2.18470000e-02  -3.48120000e-01\n",
      "   7.09260000e-01  -1.54630000e-01  -5.15630000e-01  -4.33750000e-01\n",
      "   2.72090000e-01  -1.42950000e-01  -2.76280000e-02  -4.05370000e-01\n",
      "   1.58260000e-01   2.14940000e-02   1.72340000e-01  -1.31980000e-02\n",
      "   1.26080000e-01   3.24380000e-01   1.03060000e-02  -3.02810000e-01\n",
      "   9.43380000e-02   3.05010000e-01  -1.84430000e-01  -2.35190000e-01\n",
      "   1.13380000e-01  -3.74450000e-01  -1.90710000e-01   1.76640000e-02\n",
      "  -1.34260000e-01  -6.41530000e-01   3.66400000e-01   7.12060000e-02\n",
      "  -8.97480000e-02  -1.58270000e-01  -3.03440000e-01  -5.26610000e-01\n",
      "  -3.62890000e-01   2.57330000e-01   1.04180000e+00   4.81070000e-01\n",
      "   3.68650000e-02   2.73700000e-01   3.03520000e-01   7.38140000e-02\n",
      "  -1.41800000e-01  -5.62660000e-01  -9.23320000e-02  -3.63230000e-02\n",
      "  -1.40280000e-01  -2.28320000e-01  -9.67520000e-02  -3.87000000e-01\n",
      "   4.86960000e-02  -2.83420000e-01  -7.74310000e-01   2.31170000e-01\n",
      "  -9.20970000e-02  -6.96880000e-03  -1.03250000e-01   4.19540000e-01\n",
      "   1.20570000e-01  -9.25600000e-02   4.44700000e-02  -8.81120000e-01\n",
      "   1.62300000e-01  -8.65750000e-02  -1.40550000e-01  -7.14100000e-02\n",
      "   5.85600000e-01  -1.35080000e-01   7.92930000e-02   3.21460000e-01\n",
      "   2.73300000e-02  -1.06780000e-01   3.88860000e-01   1.91440000e-01\n",
      "   4.89620000e-02   5.14220000e-02   7.04520000e-01   1.12550000e+00\n",
      "   7.76930000e-01   4.22540000e-01  -8.08930000e-01  -7.48460000e-01\n",
      "   3.30480000e-01   5.43650000e-01  -6.56490000e-03  -1.30830000e-01\n",
      "  -5.04440000e-01   3.80100000e-01   1.15260000e-01  -4.49940000e-01\n",
      "  -1.48070000e-01  -4.07420000e-02   4.99450000e-01  -2.89360000e-01\n",
      "  -6.10030000e-03   2.26470000e-01   3.23580000e-02  -1.74930000e-01\n",
      "  -2.51640000e-01  -2.49980000e-01  -3.71960000e-01  -2.24060000e-01\n",
      "  -1.46600000e-01  -7.63650000e-01  -2.18770000e-01   9.40410000e-03\n",
      "   4.70970000e-01  -7.94490000e-01   5.14540000e-02  -2.34590000e-01\n",
      "   1.08050000e+00   2.85270000e-01   9.35890000e-02   3.51060000e-01\n",
      "   3.98210000e-02   9.69830000e-01  -2.23410000e-01   5.57320000e-02\n",
      "  -2.46970000e-01   1.02300000e-01  -1.19450000e-01   3.71320000e-01\n",
      "   6.04770000e-01  -2.44540000e-02  -2.53870000e-01  -1.83740000e-01\n",
      "  -6.87800000e-01   3.00790000e-01   5.61880000e-01   1.18750000e-01\n",
      "   2.41780000e-01   3.17980000e-01  -1.84550000e-01  -7.27130000e-02\n",
      "  -1.10800000e+00   7.70320000e-01  -9.88970000e-02   2.35980000e-01\n",
      "  -3.71530000e-02   5.57400000e-02  -5.78710000e-01   4.96310000e-01\n",
      "   2.60820000e-01   1.49020000e-01  -4.79730000e-01   2.54810000e-01\n",
      "  -2.45230000e-02  -5.58940000e-01   4.49670000e-01   1.17090000e-01\n",
      "   4.89320000e-01  -5.83580000e-01  -6.54650000e-02  -2.74340000e-01\n",
      "  -4.67120000e-01  -7.20060000e-02  -1.81330000e-01  -3.32450000e-01\n",
      "   3.40290000e-01  -2.98230000e-01  -6.72850000e-01  -4.81010000e-01\n",
      "   3.67930000e-01  -3.02820000e-01  -1.50610000e-01  -3.42370000e-01\n",
      "  -2.78390000e-01   3.16370000e-01   1.72410000e-01   1.67150000e-01\n",
      "   6.39860000e-01   7.13770000e-01  -3.45680000e-01  -3.76800000e-01\n",
      "  -1.15190000e-01   6.53090000e-01  -3.43750000e-01   2.28400000e-01\n",
      "   7.25770000e-02   2.99590000e-01  -1.73750000e-01   1.03300000e-01\n",
      "  -6.44480000e-01   7.56600000e-01   2.88170000e-01  -4.49560000e-01\n",
      "  -8.37520000e-01   2.77070000e-01   8.35450000e-02  -7.59400000e-01\n",
      "  -5.33180000e-02   6.91360000e-01   6.41410000e-01  -3.43070000e-01\n",
      "  -1.17840000e-01  -4.34620000e-01  -1.97650000e-01  -9.01650000e-02\n",
      "   5.68190000e-02   5.51400000e-01  -5.55860000e-01   2.84210000e-01\n",
      "  -5.71430000e-02  -1.96490000e-01   6.22030000e-01   4.17440000e-02\n",
      "  -4.39540000e-01   4.64880000e-01  -4.39280000e-02   5.34860000e-01\n",
      "   2.00980000e-01   1.30840000e-01  -4.73940000e-01  -1.09480000e-02\n",
      "  -2.10680000e-01  -1.31800000e-01   2.99430000e-01  -4.69470000e-01\n",
      "   3.58940000e-01  -4.66700000e-01   3.75310000e-01  -9.97780000e-03\n",
      "   6.07940000e-02  -3.59010000e-01   4.55380000e-02  -2.26470000e-02\n",
      "  -3.49520000e-01  -4.03750000e-01  -2.86860000e-01   4.23150000e-02\n",
      "  -3.43660000e-01   3.35230000e-01  -5.13700000e-01  -2.70940000e-01\n",
      "   3.14680000e-02  -2.35960000e-01  -2.62040000e-02   4.17350000e-01\n",
      "  -1.88930000e+00   2.15300000e-02   2.68740000e-01  -9.35210000e-04\n",
      "   1.36990000e-01  -8.21050000e-02  -1.42300000e-01   6.68100000e-02\n",
      "  -2.28270000e-01   3.14840000e-01  -5.54350000e-01   6.06960000e-01\n",
      "   7.49170000e-02   5.12500000e-01  -5.69260000e-01  -1.62300000e-01\n",
      "  -1.52640000e-01   4.10110000e-01   4.66730000e-01  -3.74400000e-01\n",
      "  -2.60510000e-01   5.92790000e-01   2.73940000e-02  -1.61120000e-01]\n"
     ]
    }
   ],
   "source": [
    "print(word_to_vec[\"sex\"])"
   ]
  },
  {
   "cell_type": "code",
   "execution_count": null,
   "metadata": {},
   "outputs": [],
   "source": []
  }
 ],
 "metadata": {
  "kernelspec": {
   "display_name": "Python 3",
   "language": "python",
   "name": "python3"
  },
  "language_info": {
   "codemirror_mode": {
    "name": "ipython",
    "version": 3
   },
   "file_extension": ".py",
   "mimetype": "text/x-python",
   "name": "python",
   "nbconvert_exporter": "python",
   "pygments_lexer": "ipython3",
   "version": "3.5.4"
  }
 },
 "nbformat": 4,
 "nbformat_minor": 2
}
